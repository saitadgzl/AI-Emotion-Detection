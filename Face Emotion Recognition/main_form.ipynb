{
 "cells": [
  {
   "cell_type": "code",
   "execution_count": null,
   "id": "b6143fd4",
   "metadata": {},
   "outputs": [],
   "source": [
    "import tkinter as tk\n",
    "from tkinter import filedialog\n",
    "import os\n",
    "\n",
    "# Pencereyi oluştur\n",
    "window = tk.Tk()\n",
    "window.title(\"Face Emotion Recognition\")\n",
    "\n",
    "# Pencere boyutu\n",
    "window.geometry(\"980x640\")\n",
    "\n",
    "# Pencere boyutunu sabitle\n",
    "window.resizable(False, False)\n",
    "\n",
    "# Pencere ikonu\n",
    "window.iconbitmap('icon.ico')\n",
    "\n",
    "#arkaplan rengi\n",
    "window.configure(bg='orange')\n",
    "\n",
    "# Brinci buton tuşlandığında çalışacak fonksiyon\n",
    "def button1_clicked():\n",
    "    os.system(\"video_file.py\")\n",
    "  \n",
    " # Birinci buton için arkaplanı yükle\n",
    "button1_bg = tk.PhotoImage(file='button1_bg.png')\n",
    "    \n",
    "# İkinci buton tuşlandığında çalışacak fonksiyon\n",
    "def button2_clicked():\n",
    "    os.system(\"webcam.py\")\n",
    "\n",
    "# İkinci buton için arkaplanı yükle\n",
    "button2_bg = tk.PhotoImage(file='button2_bg.png')\n",
    "\n",
    "# İlk butonu oluştur\n",
    "button1 = tk.Button(window, text=\" \", command=button1_clicked, bg='orange', font=(\"Arial\", 12), image=button1_bg, \n",
    "                    compound='center', activebackground='yellow', width=300, relief='groove', borderwidth=5)\n",
    "\n",
    "# İkinci butonu oluştur\n",
    "button2 = tk.Button(window, text=\" \", command=button2_clicked, bg='orange', font=(\"Arial\", 12), image=button2_bg, \n",
    "                    compound='center', activebackground='yellow', width=300, relief='groove', borderwidth=5)\n",
    "\n",
    "\n",
    "# Butonların konunmlarını belirle\n",
    "button1.pack(side='left', anchor='center', expand=True, fill='both', padx=20, pady=20)\n",
    "button2.pack(side='left', anchor='center', expand=True, fill='both', padx=20, pady=20)\n",
    "\n",
    "# Form Uygulamasını çalıştır\n",
    "window.mainloop()\n"
   ]
  }
 ],
 "metadata": {
  "kernelspec": {
   "display_name": "Python 3 (ipykernel)",
   "language": "python",
   "name": "python3"
  },
  "language_info": {
   "codemirror_mode": {
    "name": "ipython",
    "version": 3
   },
   "file_extension": ".py",
   "mimetype": "text/x-python",
   "name": "python",
   "nbconvert_exporter": "python",
   "pygments_lexer": "ipython3",
   "version": "3.9.13"
  }
 },
 "nbformat": 4,
 "nbformat_minor": 5
}
